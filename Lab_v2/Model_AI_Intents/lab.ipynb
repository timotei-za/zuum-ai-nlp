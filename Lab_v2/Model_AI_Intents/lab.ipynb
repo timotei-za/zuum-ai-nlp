{
 "cells": [
  {
   "metadata": {},
   "cell_type": "markdown",
   "source": "# Analysis of the existing model",
   "id": "2d74485886d3cd0"
  },
  {
   "metadata": {
    "ExecuteTime": {
     "end_time": "2024-10-21T14:23:25.117653Z",
     "start_time": "2024-10-21T14:23:19.984652Z"
    }
   },
   "cell_type": "code",
   "source": [
    "import torch\n",
    "import pandas as pd \n",
    "import warnings\n",
    "\n",
    "warnings.filterwarnings(\"ignore\")"
   ],
   "id": "136dfb15166eadff",
   "outputs": [],
   "execution_count": 1
  },
  {
   "metadata": {},
   "cell_type": "markdown",
   "source": "### Load and show the parameters of the model:",
   "id": "d015d8816e01dec1"
  },
  {
   "metadata": {
    "ExecuteTime": {
     "end_time": "2024-10-21T14:23:28.483139Z",
     "start_time": "2024-10-21T14:23:27.574567Z"
    }
   },
   "cell_type": "code",
   "source": [
    "training_args = torch.load(\n",
    "    \"../../backend/intents_model/training_args.bin\"\n",
    ")\n",
    "training_args"
   ],
   "id": "c03a2a26bb4318db",
   "outputs": [
    {
     "data": {
      "text/plain": [
       "TrainingArguments(\n",
       "_n_gpu=1,\n",
       "accelerator_config=None,\n",
       "adafactor=False,\n",
       "adam_beta1=0.9,\n",
       "adam_beta2=0.999,\n",
       "adam_epsilon=1e-08,\n",
       "auto_find_batch_size=False,\n",
       "batch_eval_metrics=False,\n",
       "bf16=False,\n",
       "bf16_full_eval=False,\n",
       "data_seed=None,\n",
       "dataloader_drop_last=False,\n",
       "dataloader_num_workers=0,\n",
       "dataloader_persistent_workers=False,\n",
       "dataloader_pin_memory=True,\n",
       "dataloader_prefetch_factor=None,\n",
       "ddp_backend=None,\n",
       "ddp_broadcast_buffers=None,\n",
       "ddp_bucket_cap_mb=None,\n",
       "ddp_find_unused_parameters=None,\n",
       "ddp_timeout=1800,\n",
       "debug=[],\n",
       "deepspeed=None,\n",
       "disable_tqdm=False,\n",
       "dispatch_batches=None,\n",
       "do_eval=True,\n",
       "do_predict=False,\n",
       "do_train=False,\n",
       "eval_accumulation_steps=None,\n",
       "eval_delay=0,\n",
       "eval_do_concat_batches=True,\n",
       "eval_on_start=False,\n",
       "eval_steps=None,\n",
       "eval_strategy=no,\n",
       "eval_use_gather_object=False,\n",
       "evaluation_strategy=IntervalStrategy.EPOCH,\n",
       "fp16=False,\n",
       "fp16_backend=auto,\n",
       "fp16_full_eval=False,\n",
       "fp16_opt_level=O1,\n",
       "fsdp=[],\n",
       "fsdp_config={'min_num_params': 0, 'xla': False, 'xla_fsdp_grad_ckpt': False},\n",
       "fsdp_min_num_params=0,\n",
       "fsdp_transformer_layer_cls_to_wrap=None,\n",
       "full_determinism=False,\n",
       "gradient_accumulation_steps=1,\n",
       "gradient_checkpointing=False,\n",
       "gradient_checkpointing_kwargs=None,\n",
       "greater_is_better=None,\n",
       "group_by_length=False,\n",
       "half_precision_backend=auto,\n",
       "hub_always_push=False,\n",
       "hub_model_id=None,\n",
       "hub_private_repo=False,\n",
       "hub_strategy=HubStrategy.EVERY_SAVE,\n",
       "hub_token=<HUB_TOKEN>,\n",
       "ignore_data_skip=False,\n",
       "include_inputs_for_metrics=False,\n",
       "include_num_input_tokens_seen=False,\n",
       "include_tokens_per_second=False,\n",
       "jit_mode_eval=False,\n",
       "label_names=None,\n",
       "label_smoothing_factor=0.0,\n",
       "learning_rate=2e-05,\n",
       "length_column_name=length,\n",
       "load_best_model_at_end=False,\n",
       "local_rank=0,\n",
       "log_level=passive,\n",
       "log_level_replica=warning,\n",
       "log_on_each_node=True,\n",
       "logging_dir=n3_distilbert-base-uncased/runs/May29_01-02-58_Priyanshas-MacBook-Pro.local,\n",
       "logging_first_step=False,\n",
       "logging_nan_inf_filter=True,\n",
       "logging_steps=500,\n",
       "logging_strategy=IntervalStrategy.STEPS,\n",
       "lr_scheduler_kwargs={},\n",
       "lr_scheduler_type=SchedulerType.LINEAR,\n",
       "max_grad_norm=1.0,\n",
       "max_steps=-1,\n",
       "metric_for_best_model=None,\n",
       "mp_parameters=,\n",
       "neftune_noise_alpha=None,\n",
       "no_cuda=False,\n",
       "num_train_epochs=5.0,\n",
       "optim=OptimizerNames.ADAMW_TORCH,\n",
       "optim_args=None,\n",
       "optim_target_modules=None,\n",
       "output_dir=n3_distilbert-base-uncased,\n",
       "overwrite_output_dir=False,\n",
       "past_index=-1,\n",
       "per_device_eval_batch_size=16,\n",
       "per_device_train_batch_size=16,\n",
       "prediction_loss_only=False,\n",
       "push_to_hub=False,\n",
       "push_to_hub_model_id=None,\n",
       "push_to_hub_organization=None,\n",
       "push_to_hub_token=<PUSH_TO_HUB_TOKEN>,\n",
       "ray_scope=last,\n",
       "remove_unused_columns=True,\n",
       "report_to=['tensorboard'],\n",
       "restore_callback_states_from_checkpoint=False,\n",
       "resume_from_checkpoint=None,\n",
       "run_name=n3_distilbert-base-uncased,\n",
       "save_on_each_node=False,\n",
       "save_only_model=False,\n",
       "save_safetensors=True,\n",
       "save_steps=500,\n",
       "save_strategy=IntervalStrategy.STEPS,\n",
       "save_total_limit=None,\n",
       "seed=42,\n",
       "skip_memory_metrics=True,\n",
       "split_batches=False,\n",
       "tf32=None,\n",
       "torch_compile=False,\n",
       "torch_compile_backend=None,\n",
       "torch_compile_mode=None,\n",
       "torch_empty_cache_steps=None,\n",
       "torchdynamo=None,\n",
       "tpu_metrics_debug=False,\n",
       "tpu_num_cores=None,\n",
       "use_cpu=False,\n",
       "use_ipex=False,\n",
       "use_legacy_prediction_loop=False,\n",
       "use_mps_device=False,\n",
       "warmup_ratio=0.0,\n",
       "warmup_steps=0,\n",
       "weight_decay=0.01,\n",
       ")"
      ]
     },
     "execution_count": 2,
     "metadata": {},
     "output_type": "execute_result"
    }
   ],
   "execution_count": 2
  },
  {
   "metadata": {},
   "cell_type": "markdown",
   "source": "### Checking & analyse the present dataset: ",
   "id": "8af0bac4d909ae89"
  },
  {
   "metadata": {
    "ExecuteTime": {
     "end_time": "2024-10-21T14:23:34.451962Z",
     "start_time": "2024-10-21T14:23:34.418826Z"
    }
   },
   "cell_type": "code",
   "source": [
    "intents_data = pd.read_csv(\n",
    "    \"../../ai_team-main/intents_dataset.csv\"\n",
    ")\n",
    "intents_data.info()"
   ],
   "id": "42312f7a538c25d7",
   "outputs": [
    {
     "name": "stdout",
     "output_type": "stream",
     "text": [
      "<class 'pandas.core.frame.DataFrame'>\n",
      "RangeIndex: 100 entries, 0 to 99\n",
      "Data columns (total 17 columns):\n",
      " #   Column                                                       Non-Null Count  Dtype \n",
      "---  ------                                                       --------------  ----- \n",
      " 0   Query_for_Shipment_Location                                  100 non-null    object\n",
      " 1   Query_for_Shipment_StartEnd_Date                             100 non-null    object\n",
      " 2   Query_for_Shipments_sent_in_windowed_time_period             100 non-null    object\n",
      " 3   Query_for_Shipments_sent_by_company_in_windowed_time_period  100 non-null    object\n",
      " 4   Query_for_Shipment_Status                                    100 non-null    object\n",
      " 5   Shipments_available_for_pickup                               100 non-null    object\n",
      " 6   Shipments_that_are_delayed                                   100 non-null    object\n",
      " 7   Shipments_with_special_conditions                            100 non-null    object\n",
      " 8   Query_for_Shipment_Good_Type                                 100 non-null    object\n",
      " 9   Query_for_customer_pending_deliveries                        100 non-null    object\n",
      " 10  Query_for_customer_delivery_type                             100 non-null    object\n",
      " 11  Query_for_customer_load_size                                 100 non-null    object\n",
      " 12  Query_for_Customer_Locations                                 100 non-null    object\n",
      " 13  Query_for_any_previous_issues_the_Customer_has_had           100 non-null    object\n",
      " 14  Query_for_carrier_ratings                                    100 non-null    object\n",
      " 15  Query_for_carrier_capacity                                   100 non-null    object\n",
      " 16  Query_for_carrier_vehicle_type                               100 non-null    object\n",
      "dtypes: object(17)\n",
      "memory usage: 13.4+ KB\n"
     ]
    }
   ],
   "execution_count": 3
  },
  {
   "metadata": {
    "ExecuteTime": {
     "end_time": "2024-10-21T14:23:36.717144Z",
     "start_time": "2024-10-21T14:23:36.696035Z"
    }
   },
   "cell_type": "code",
   "source": [
    "intents_train = pd.read_csv(\n",
    "    \"../../ai_team-main/train.csv\"\n",
    ")\n",
    "intents_train.info()"
   ],
   "id": "415126d0cf64d036",
   "outputs": [
    {
     "name": "stdout",
     "output_type": "stream",
     "text": [
      "<class 'pandas.core.frame.DataFrame'>\n",
      "RangeIndex: 1951 entries, 0 to 1950\n",
      "Data columns (total 2 columns):\n",
      " #   Column  Non-Null Count  Dtype \n",
      "---  ------  --------------  ----- \n",
      " 0   text    1951 non-null   object\n",
      " 1   labels  1951 non-null   int64 \n",
      "dtypes: int64(1), object(1)\n",
      "memory usage: 30.6+ KB\n"
     ]
    }
   ],
   "execution_count": 4
  }
 ],
 "metadata": {
  "kernelspec": {
   "display_name": "Python 3",
   "language": "python",
   "name": "python3"
  },
  "language_info": {
   "codemirror_mode": {
    "name": "ipython",
    "version": 2
   },
   "file_extension": ".py",
   "mimetype": "text/x-python",
   "name": "python",
   "nbconvert_exporter": "python",
   "pygments_lexer": "ipython2",
   "version": "2.7.6"
  }
 },
 "nbformat": 4,
 "nbformat_minor": 5
}
